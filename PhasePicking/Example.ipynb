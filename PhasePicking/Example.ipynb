from EQLocateDL import *

data = read_data()

plot_data(data, station="JAJA")

